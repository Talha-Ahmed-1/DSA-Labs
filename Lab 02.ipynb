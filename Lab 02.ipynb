{
 "cells": [
  {
   "cell_type": "code",
   "execution_count": 3,
   "metadata": {},
   "outputs": [
    {
     "name": "stdout",
     "output_type": "stream",
     "text": [
      "Enter rows: 3\n",
      "Enter columns: 3\n",
      "[[0, 0, 0], [0, 0, 0], [0, 0, 0]]\n",
      "Enter: \n"
     ]
    },
    {
     "ename": "ValueError",
     "evalue": "invalid literal for int() with base 10: ''",
     "output_type": "error",
     "traceback": [
      "\u001b[1;31m---------------------------------------------------------------------------\u001b[0m",
      "\u001b[1;31mValueError\u001b[0m                                Traceback (most recent call last)",
      "\u001b[1;32m<ipython-input-3-c3d4c66db2ae>\u001b[0m in \u001b[0;36m<module>\u001b[1;34m()\u001b[0m\n\u001b[0;32m     13\u001b[0m \u001b[0mr\u001b[0m\u001b[1;33m=\u001b[0m\u001b[0mint\u001b[0m\u001b[1;33m(\u001b[0m\u001b[0minput\u001b[0m\u001b[1;33m(\u001b[0m\u001b[1;34m\"Enter rows: \"\u001b[0m\u001b[1;33m)\u001b[0m\u001b[1;33m)\u001b[0m\u001b[1;33m\u001b[0m\u001b[0m\n\u001b[0;32m     14\u001b[0m \u001b[0mc\u001b[0m\u001b[1;33m=\u001b[0m\u001b[0mint\u001b[0m\u001b[1;33m(\u001b[0m\u001b[0minput\u001b[0m\u001b[1;33m(\u001b[0m\u001b[1;34m\"Enter columns: \"\u001b[0m\u001b[1;33m)\u001b[0m\u001b[1;33m)\u001b[0m\u001b[1;33m\u001b[0m\u001b[0m\n\u001b[1;32m---> 15\u001b[1;33m \u001b[0ma\u001b[0m\u001b[1;33m=\u001b[0m\u001b[0mSetValues\u001b[0m\u001b[1;33m(\u001b[0m\u001b[0mc\u001b[0m\u001b[1;33m,\u001b[0m\u001b[0mr\u001b[0m\u001b[1;33m)\u001b[0m\u001b[1;33m\u001b[0m\u001b[0m\n\u001b[0m\u001b[0;32m     16\u001b[0m \u001b[0mPrintValues\u001b[0m\u001b[1;33m(\u001b[0m\u001b[0mc\u001b[0m\u001b[1;33m,\u001b[0m\u001b[0mr\u001b[0m\u001b[1;33m,\u001b[0m\u001b[0ma\u001b[0m\u001b[1;33m)\u001b[0m\u001b[1;33m\u001b[0m\u001b[0m\n\u001b[0;32m     17\u001b[0m \u001b[0mprint\u001b[0m\u001b[1;33m(\u001b[0m\u001b[1;34m\"In two dimension array we can't change the values of 2 sub lists.\"\u001b[0m\u001b[1;33m)\u001b[0m\u001b[1;33m\u001b[0m\u001b[0m\n",
      "\u001b[1;32m<ipython-input-3-c3d4c66db2ae>\u001b[0m in \u001b[0;36mSetValues\u001b[1;34m(col, row)\u001b[0m\n\u001b[0;32m      4\u001b[0m     \u001b[1;32mfor\u001b[0m \u001b[0mi\u001b[0m \u001b[1;32min\u001b[0m \u001b[0mrange\u001b[0m\u001b[1;33m(\u001b[0m\u001b[0mrow\u001b[0m\u001b[1;33m)\u001b[0m\u001b[1;33m:\u001b[0m\u001b[1;33m\u001b[0m\u001b[0m\n\u001b[0;32m      5\u001b[0m         \u001b[1;32mfor\u001b[0m \u001b[0mj\u001b[0m \u001b[1;32min\u001b[0m \u001b[0mrange\u001b[0m \u001b[1;33m(\u001b[0m\u001b[0mcol\u001b[0m\u001b[1;33m)\u001b[0m\u001b[1;33m:\u001b[0m\u001b[1;33m\u001b[0m\u001b[0m\n\u001b[1;32m----> 6\u001b[1;33m             \u001b[0marr\u001b[0m\u001b[1;33m[\u001b[0m\u001b[0mi\u001b[0m\u001b[1;33m]\u001b[0m\u001b[1;33m[\u001b[0m\u001b[0mj\u001b[0m\u001b[1;33m]\u001b[0m\u001b[1;33m=\u001b[0m\u001b[0mint\u001b[0m\u001b[1;33m(\u001b[0m\u001b[0minput\u001b[0m\u001b[1;33m(\u001b[0m\u001b[1;34m\"Enter: \"\u001b[0m\u001b[1;33m)\u001b[0m\u001b[1;33m)\u001b[0m\u001b[1;33m\u001b[0m\u001b[0m\n\u001b[0m\u001b[0;32m      7\u001b[0m     \u001b[1;32mreturn\u001b[0m \u001b[0marr\u001b[0m\u001b[1;33m\u001b[0m\u001b[0m\n\u001b[0;32m      8\u001b[0m \u001b[1;32mdef\u001b[0m \u001b[0mPrintValues\u001b[0m\u001b[1;33m(\u001b[0m\u001b[0mcol\u001b[0m\u001b[1;33m,\u001b[0m\u001b[0mrow\u001b[0m\u001b[1;33m,\u001b[0m\u001b[0marr\u001b[0m\u001b[1;33m)\u001b[0m\u001b[1;33m:\u001b[0m\u001b[1;33m\u001b[0m\u001b[0m\n",
      "\u001b[1;31mValueError\u001b[0m: invalid literal for int() with base 10: ''"
     ]
    }
   ],
   "source": [
    "def SetValues(col,row):\n",
    "    arr = [ [0] * col] * row\n",
    "    print(arr)\n",
    "    for i in range(row):\n",
    "        for j in range (col):\n",
    "            arr[i][j]=int(input(\"Enter: \"))\n",
    "    return arr\n",
    "def PrintValues(col,row,arr):\n",
    "    for i in range(row):\n",
    "        for j in range (col):\n",
    "            print(arr[i][j], end=\"  \")\n",
    "        print(\"\\r\")\n",
    "r=int(input(\"Enter rows: \"))\n",
    "c=int(input(\"Enter columns: \"))\n",
    "a=SetValues(c,r)\n",
    "PrintValues(c,r,a)\n",
    "print(\"In two dimension array we can't change the values of 2 sub lists.\")"
   ]
  },
  {
   "cell_type": "code",
   "execution_count": 28,
   "metadata": {},
   "outputs": [
    {
     "name": "stdout",
     "output_type": "stream",
     "text": [
      "Enter rows: 3\n",
      "Enter columns: 3\n",
      "Enter: 1\n",
      "Enter: 2\n",
      "Enter: 3\n",
      "Enter: 4\n",
      "Enter: 5\n",
      "Enter: 6\n",
      "Enter: 7\n",
      "Enter: 8\n",
      "Enter: 9\n",
      "1  2  3  \n",
      "4  5  6  \n",
      "7  8  9  \n"
     ]
    }
   ],
   "source": [
    "# B\n",
    "def SetValues(col,row):\n",
    "    a = [[0 for i in range(col)]for j in range(row)]\n",
    "    for i in range(row):\n",
    "        for j in range (col):\n",
    "            a[i][j]=int(input(\"Enter: \"))\n",
    "    return a\n",
    "def PrintValues(col,row,a):\n",
    "    for i in range(row):\n",
    "        for j in range (col):\n",
    "            print(a[i][j], end=\"  \")\n",
    "        print(\"\\r\")\n",
    "r=int(input(\"Enter rows: \"))\n",
    "c=int(input(\"Enter columns: \"))\n",
    "a=SetValues(c,r)\n",
    "PrintValues(c,r,a)"
   ]
  },
  {
   "cell_type": "code",
   "execution_count": 86,
   "metadata": {
    "scrolled": false
   },
   "outputs": [
    {
     "name": "stdout",
     "output_type": "stream",
     "text": [
      "Enter row number: 2\n",
      "Enter column number: 2\n",
      "Matrix A\n",
      "Enter: 1\n",
      "Enter: 2\n",
      "Enter: 3\n",
      "Enter: 5\n",
      "Matrix B\n",
      "Enter: 2\n",
      "Enter: 5\n",
      "Enter: 9\n",
      "Enter: 8\n",
      "Matrix [1/2]2\n",
      "Enter row number: 1\n",
      "Enter column number: 0\n",
      "9\n",
      "----------Sum of two matrices---------\n",
      "3  7  \n",
      "12  13  \n",
      "----------Difference of two matrices---------\n",
      "-1  -3  \n",
      "-6  -3  \n",
      "Matrix A\n",
      "1  2  \n",
      "3  5  \n",
      "Matrix B\n",
      "2  5  \n",
      "9  8  \n",
      "Matrix [1/2]2\n",
      "9\n"
     ]
    }
   ],
   "source": [
    "# C\n",
    "class Array:\n",
    "    def __init__(self,row,col):\n",
    "        self.row=row\n",
    "        self.col=col\n",
    "        self.a=[[0 for i in range(self.col)]for j in range(self.row)]\n",
    "        self.a1 = [[0 for i in range(self.col)]for j in range(self.row)]\n",
    "    def SetValues(self):\n",
    "        print(\"Matrix A\")\n",
    "        for i in range(self.row):\n",
    "            for j in range (self.col):\n",
    "                self.a[i][j]=int(input(\"Enter: \"))\n",
    "        print(\"Matrix B\")\n",
    "        for i in range(self.row):\n",
    "            for j in range (self.col):\n",
    "                self.a1[i][j]=int(input(\"Enter: \"))\n",
    "    def GetValues(self):\n",
    "        f=int(input(\"Matrix [1/2]\"))\n",
    "        if f==1:\n",
    "            i=int(input(\"Enter row number: \"))\n",
    "            j=int(input(\"Enter column number: \"))\n",
    "            print(self.a[i][j])\n",
    "        else:\n",
    "            i=int(input(\"Enter row number: \"))\n",
    "            j=int(input(\"Enter column number: \"))\n",
    "            print(self.a1[i][j])\n",
    "    def AddValues(self):\n",
    "        print(\"----------Sum of two matrices---------\")\n",
    "        self.a2 = [[0 for i in range(self.col)]for j in range(self.row)]\n",
    "        for i in range(self.row):\n",
    "            for j in range (self.col):\n",
    "                self.a2[i][j]=self.a[i][j] + self.a1[i][j]\n",
    "        for i in range(self.row):\n",
    "            for j in range (self.col):\n",
    "                print(self.a2[i][j], end=\"  \")\n",
    "            print(\"\\r\")\n",
    "    def SubValues(self):\n",
    "        print(\"----------Difference of two matrices---------\")\n",
    "        self.a2 = [[0 for i in range(self.col)]for j in range(self.row)]\n",
    "        for i in range(self.row):\n",
    "            for j in range (self.col):\n",
    "                self.a2[i][j]=self.a[i][j] - self.a1[i][j]\n",
    "        for i in range(self.row):\n",
    "            for j in range (self.col):\n",
    "                print(self.a2[i][j], end=\"  \")\n",
    "            print(\"\\r\")\n",
    "    def PrintValues(self):\n",
    "        print(\"Matrix A\")\n",
    "        for i in range(self.row):\n",
    "            for j in range (self.col):\n",
    "                print(self.a[i][j], end=\"  \")\n",
    "            print(\"\\r\")\n",
    "        print(\"Matrix B\")\n",
    "        for i in range(self.row):\n",
    "            for j in range (self.col):\n",
    "                print(self.a1[i][j], end=\"  \")\n",
    "            print(\"\\r\")\n",
    "    def Max(self):\n",
    "        f=int(input(\"Matrix [1/2]\"))\n",
    "        if f==1:\n",
    "            maxx=self.a[0][0]\n",
    "            for i in range(self.row):\n",
    "                for j in range (self.col):\n",
    "                    if maxx < self.a[i][j] :\n",
    "                        maxx=self.a[i][j]\n",
    "            print(maxx)\n",
    "        else:\n",
    "            maxx=self.a1[0][0]\n",
    "            for i in range(self.row):\n",
    "                for j in range (self.col):\n",
    "                    if maxx < self.a1[i][j]:\n",
    "                        maxx=self.a1[i][j]\n",
    "            print(maxx)\n",
    "i=int(input(\"Enter row number: \"))\n",
    "j=int(input(\"Enter column number: \"))\n",
    "a=Array(i,j)\n",
    "a.SetValues()\n",
    "a.GetValues()\n",
    "a.AddValues()\n",
    "a.SubValues()\n",
    "a.PrintValues()\n",
    "a.Max()"
   ]
  }
 ],
 "metadata": {
  "kernelspec": {
   "display_name": "Python 3",
   "language": "python",
   "name": "python3"
  },
  "language_info": {
   "codemirror_mode": {
    "name": "ipython",
    "version": 3
   },
   "file_extension": ".py",
   "mimetype": "text/x-python",
   "name": "python",
   "nbconvert_exporter": "python",
   "pygments_lexer": "ipython3",
   "version": "3.7.0"
  }
 },
 "nbformat": 4,
 "nbformat_minor": 2
}
