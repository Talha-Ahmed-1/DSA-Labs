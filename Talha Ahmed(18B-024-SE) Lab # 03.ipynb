{
 "cells": [
  {
   "cell_type": "code",
   "execution_count": 4,
   "metadata": {},
   "outputs": [
    {
     "name": "stdout",
     "output_type": "stream",
     "text": [
      "4\n"
     ]
    }
   ],
   "source": [
    "# Ques A\n",
    "def LinearSearch(data,x):\n",
    "    i=1\n",
    "    while i <= len(data) and x != data[i]:\n",
    "        i += 1\n",
    "    if i <= len(data):\n",
    "        location=data.index(i)+2\n",
    "    else:\n",
    "        location=0\n",
    "    print(location) \n",
    "data=[1,2,3,4,5,6]\n",
    "x=4\n",
    "LinearSearch(data,x)"
   ]
  },
  {
   "cell_type": "code",
   "execution_count": 1,
   "metadata": {},
   "outputs": [
    {
     "name": "stdout",
     "output_type": "stream",
     "text": [
      "3\n"
     ]
    }
   ],
   "source": [
    "# Ques B\n",
    "def BinarySearch(data,x):\n",
    "    i=1\n",
    "    j=len(data)+1\n",
    "    while i<j:\n",
    "        m=(i+j)//2\n",
    "        if x>data[m]:\n",
    "            i=m+1\n",
    "        else:\n",
    "            j=m\n",
    "    if x==data[m]:\n",
    "        location=data.index(i)+1\n",
    "    else:\n",
    "        location=0\n",
    "    print(location)\n",
    "data=[1,2,3,4,5,6]\n",
    "x=4\n",
    "BinarySearch(data,x)"
   ]
  },
  {
   "cell_type": "code",
   "execution_count": 17,
   "metadata": {},
   "outputs": [
    {
     "name": "stdout",
     "output_type": "stream",
     "text": [
      "4\n",
      "0\n",
      "[3, 4, 5, 6]\n"
     ]
    }
   ],
   "source": [
    "# Ques C\n",
    "class List:\n",
    "    def __init__(self):\n",
    "        self.lst=[]\n",
    "    def InsertAtFirst(self,x):\n",
    "        self.lst.insert(0,x)\n",
    "    def InsertAtEnd(self,x):\n",
    "        self.lst.append(x)\n",
    "    def DeleteFromFirst(self):\n",
    "        self.lst.remove(self.lst[0])\n",
    "    def DeleteFromEnd(self):\n",
    "        self.lst.pop()\n",
    "    def LinearSearch(self,x):\n",
    "        for i in self.lst:\n",
    "            if x == i:\n",
    "                return self.lst.index(i)+1\n",
    "        return False\n",
    "    def BinarySearch(self,x):\n",
    "        i=1\n",
    "        j=len(self.lst)+1\n",
    "        while i<j:\n",
    "            m=(i+j)//2\n",
    "            if x>self.lst[m]:\n",
    "                i=m+1\n",
    "            else:\n",
    "                j=m\n",
    "        if x==self.lst[m]:\n",
    "            location=self.lst.index(i)+1\n",
    "        else:\n",
    "            location=0\n",
    "        return location\n",
    "    def isSorted(self):\n",
    "        #a=False\n",
    "        for i in self.lst:\n",
    "            if self.lst[i] > self.lst[i+1]:\n",
    "                return False\n",
    "            else:\n",
    "                return True\n",
    "    def Search(self,x):\n",
    "        if self.isSorted==True:\n",
    "            self.BinarySearch(x)\n",
    "        else:\n",
    "            self.LinearSearch(x)\n",
    "a=List()\n",
    "a.InsertAtFirst(3)\n",
    "a.InsertAtEnd(4)\n",
    "a.InsertAtEnd(5)\n",
    "a.InsertAtEnd(6)\n",
    "#a.DeleteFromFirst()\n",
    "#a.DeleteFromEnd()\n",
    "print(a.LinearSearch(6))\n",
    "print(a.BinarySearch(5))\n",
    "print(a.Search(4))\n",
    "#print(a.lst)"
   ]
  }
 ],
 "metadata": {
  "kernelspec": {
   "display_name": "Python 3",
   "language": "python",
   "name": "python3"
  },
  "language_info": {
   "codemirror_mode": {
    "name": "ipython",
    "version": 3
   },
   "file_extension": ".py",
   "mimetype": "text/x-python",
   "name": "python",
   "nbconvert_exporter": "python",
   "pygments_lexer": "ipython3",
   "version": "3.7.0"
  }
 },
 "nbformat": 4,
 "nbformat_minor": 2
}
