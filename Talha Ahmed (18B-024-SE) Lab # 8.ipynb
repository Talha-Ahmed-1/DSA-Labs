{
 "cells": [
  {
   "cell_type": "code",
   "execution_count": 5,
   "metadata": {},
   "outputs": [
    {
     "name": "stdout",
     "output_type": "stream",
     "text": [
      "5\n",
      "4\n",
      "3\n",
      "2\n",
      "1\n"
     ]
    }
   ],
   "source": [
    "# 1\n",
    "def Write(n):\n",
    "    if n>0:\n",
    "        print(n)\n",
    "        Write(n-1)\n",
    "Write(5)"
   ]
  },
  {
   "cell_type": "code",
   "execution_count": 34,
   "metadata": {},
   "outputs": [
    {
     "name": "stdout",
     "output_type": "stream",
     "text": [
      "5!=5x4x3x2x1=120\n"
     ]
    }
   ],
   "source": [
    "# 2\n",
    "def Factorial(n):\n",
    "    if n>0:\n",
    "        if n==1:\n",
    "            print(n,end=\"=\")\n",
    "        if n!=1:\n",
    "            print(n,end=\"x\")\n",
    "        n*=Factorial(n-1)\n",
    "        return n\n",
    "    else:\n",
    "        return 1\n",
    "n=5\n",
    "print(str(n),end=\"!=\")\n",
    "print(Factorial(n))"
   ]
  },
  {
   "cell_type": "code",
   "execution_count": 39,
   "metadata": {},
   "outputs": [
    {
     "data": {
      "text/plain": [
       "120"
      ]
     },
     "execution_count": 39,
     "metadata": {},
     "output_type": "execute_result"
    }
   ],
   "source": [
    "###################################################Tail Recursion\n",
    "def factorial(x, fac=1):\n",
    "    if (x == 1):\n",
    "        return fac\n",
    "    else:\n",
    "        return factorial(x-1, x*fac)\n",
    "factorial(5)"
   ]
  },
  {
   "cell_type": "code",
   "execution_count": 86,
   "metadata": {},
   "outputs": [
    {
     "data": {
      "text/plain": [
       "4"
      ]
     },
     "execution_count": 86,
     "metadata": {},
     "output_type": "execute_result"
    }
   ],
   "source": [
    "# 3\n",
    "def GCD(a,b):\n",
    "    if b==0:\n",
    "        return a\n",
    "    else:\n",
    "        return GCD(b,a%b)\n",
    "GCD(8,12)"
   ]
  },
  {
   "cell_type": "code",
   "execution_count": 2,
   "metadata": {},
   "outputs": [
    {
     "data": {
      "text/plain": [
       "7"
      ]
     },
     "execution_count": 2,
     "metadata": {},
     "output_type": "execute_result"
    }
   ],
   "source": [
    "# 4\n",
    "def BinSearch(a,lb,ub,x):\n",
    "    mid=(lb+ub)//2\n",
    "    if x==a[mid]:\n",
    "        return mid+1\n",
    "    elif x<a[mid]:\n",
    "        return BinSearch(a,lb,mid-1,x)\n",
    "    elif x>ub:\n",
    "        return \"Item not Found !\"\n",
    "    else:\n",
    "        return BinSearch(a,mid+1,ub,x)\n",
    "BinSearch([1,2,3,4,5,6,8],1,8,8)"
   ]
  },
  {
   "cell_type": "code",
   "execution_count": 2,
   "metadata": {},
   "outputs": [
    {
     "name": "stdout",
     "output_type": "stream",
     "text": [
      "[20, 50, 75, 99, 100]\n"
     ]
    }
   ],
   "source": [
    "# 5\n",
    "def QuickSort(a,p,r):\n",
    "    if p<r:\n",
    "        q=Partition(a,p,r)\n",
    "        QuickSort(a,p,q-1)\n",
    "        QuickSort(a,q+1,r)\n",
    "def Partition(a,low,high):\n",
    "    x=a[high]\n",
    "    i=low-1\n",
    "    for j in range(low,high):\n",
    "        if a[j]<=x:\n",
    "            i=i+1\n",
    "            a[j],a[i]=a[i],a[j]\n",
    "    a[i+1],a[high]=a[high],a[i+1]\n",
    "    return i+1\n",
    "arr=[20,50,100,75,99]\n",
    "QuickSort(arr,0,len(arr)-1)\n",
    "print(arr)"
   ]
  },
  {
   "cell_type": "code",
   "execution_count": 18,
   "metadata": {},
   "outputs": [
    {
     "name": "stdout",
     "output_type": "stream",
     "text": [
      "1\n",
      "2\n",
      "3\n",
      "4\n",
      "5\n"
     ]
    }
   ],
   "source": [
    "def rec(a,i,j):\n",
    "    if i>=0:\n",
    "        #print(i)\n",
    "        print(a[j-i])\n",
    "        rec(a,i-1,j)\n",
    "a=[1,2,3,4,5]\n",
    "rec(a,len(a)-1,len(a)-1)"
   ]
  },
  {
   "cell_type": "code",
   "execution_count": 36,
   "metadata": {},
   "outputs": [
    {
     "name": "stdout",
     "output_type": "stream",
     "text": [
      "5\n",
      "4\n",
      "3\n",
      "2\n",
      "1\n"
     ]
    }
   ],
   "source": [
    "def rec(a,i):\n",
    "    if i>=0:\n",
    "        print(a[i])\n",
    "        rec(a,i-1)\n",
    "a=[1,2,3,4,5]\n",
    "rec(a,len(a)-1)"
   ]
  }
 ],
 "metadata": {
  "kernelspec": {
   "display_name": "Python 3",
   "language": "python",
   "name": "python3"
  },
  "language_info": {
   "codemirror_mode": {
    "name": "ipython",
    "version": 3
   },
   "file_extension": ".py",
   "mimetype": "text/x-python",
   "name": "python",
   "nbconvert_exporter": "python",
   "pygments_lexer": "ipython3",
   "version": "3.7.0"
  }
 },
 "nbformat": 4,
 "nbformat_minor": 2
}
