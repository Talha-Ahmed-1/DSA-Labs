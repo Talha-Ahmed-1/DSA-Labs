{
 "cells": [
  {
   "cell_type": "code",
   "execution_count": 3,
   "metadata": {},
   "outputs": [
    {
     "name": "stdout",
     "output_type": "stream",
     "text": [
      "***************Matrix A***************\n",
      "0 1 \r\n",
      "1 2 \r\n",
      "***************Matrix B***************\n",
      "0 1 \r\n",
      "2 3 \r\n",
      "*******Product of Matrix A and B*******\n",
      "2 3 \r\n",
      "4 7 \r\n",
      "***Transpose of the Product of Matrix A and B***\n",
      "2 4 \r\n",
      "3 7 \r\n"
     ]
    }
   ],
   "source": [
    "class Matrix:\n",
    "    def __init__(self,row,col):\n",
    "        self.row=row\n",
    "        self.col=col\n",
    "        self.data=[0 for i in range(row*col)]\n",
    "    def setValues(self,i,j,value):\n",
    "        self.data[self.Location(i,j)]=value\n",
    "    def getValues(self,i,j):\n",
    "        return self.data[self.Location(i,j)]\n",
    "    def Location(self,i,j):\n",
    "        loc=i+self.row*j\n",
    "        return loc\n",
    "    def Print(self):\n",
    "        for i in range(self.row):\n",
    "            for j in range(self.col):\n",
    "                print(self.getValues(i,j),end=\" \")\n",
    "            print(\"\\r\")\n",
    "    def multValues(self,a,b):\n",
    "        for i in range(a.row):\n",
    "            for j in range(b.col):\n",
    "                Sum=0\n",
    "                for k in range(b.row):\n",
    "                    x=a.getValues(i,k)\n",
    "                    y=b.getValues(k,j)\n",
    "                    Sum+=x*y\n",
    "                    self.setValues(i,j,Sum)\n",
    "    def transpose(self,a):\n",
    "        for i in range(a.row):\n",
    "            for j in range(a.col):\n",
    "                self.setValues(j,i,a.getValues(i,j))\n",
    "row=2\n",
    "col=2\n",
    "a=Matrix(row,col)\n",
    "print(\"***************Matrix A***************\")\n",
    "for i in range(row):\n",
    "    for j in range(col):\n",
    "        a.setValues(i,j,i+j)\n",
    "a.Print()\n",
    "row=2\n",
    "col=2\n",
    "b=Matrix(row,col)\n",
    "print(\"***************Matrix B***************\")\n",
    "for i in range(row):\n",
    "    for j in range(col):\n",
    "        b.setValues(i,j,i+i+j)\n",
    "b.Print()\n",
    "row=2\n",
    "col=2\n",
    "c=Matrix(row,col)\n",
    "c.multValues(a,b)\n",
    "print(\"*******Product of Matrix A and B*******\")\n",
    "c.Print()\n",
    "row=2\n",
    "col=2\n",
    "d=Matrix(row,col)\n",
    "d.transpose(c)\n",
    "print(\"***Transpose of the Product of Matrix A and B***\")\n",
    "d.Print()"
   ]
  },
  {
   "cell_type": "code",
   "execution_count": 1,
   "metadata": {},
   "outputs": [
    {
     "name": "stdout",
     "output_type": "stream",
     "text": [
      "[[1 2 3 4]\n",
      " [5 6 7 8]]\n"
     ]
    }
   ],
   "source": [
    "import numpy as np\n",
    "array1 = np.array([[1,2,3,4],[5,6,7,8]], dtype=np.int64)\n",
    "print(array1)"
   ]
  },
  {
   "cell_type": "code",
   "execution_count": 2,
   "metadata": {},
   "outputs": [
    {
     "name": "stdout",
     "output_type": "stream",
     "text": [
      "[[1 1 1 1]\n",
      " [1 1 1 1]\n",
      " [1 1 1 1]]\n"
     ]
    }
   ],
   "source": [
    "x = np.ones((3,4),dtype=np.int64)\n",
    "print(x)"
   ]
  },
  {
   "cell_type": "code",
   "execution_count": 3,
   "metadata": {},
   "outputs": [
    {
     "name": "stdout",
     "output_type": "stream",
     "text": [
      "[[[0 0 0 0]\n",
      "  [0 0 0 0]\n",
      "  [0 0 0 0]]\n",
      "\n",
      " [[0 0 0 0]\n",
      "  [0 0 0 0]\n",
      "  [0 0 0 0]]]\n"
     ]
    }
   ],
   "source": [
    "y = np.zeros((2,3,4),dtype=np.int16)\n",
    "print(y)"
   ]
  },
  {
   "cell_type": "code",
   "execution_count": 4,
   "metadata": {},
   "outputs": [
    {
     "name": "stdout",
     "output_type": "stream",
     "text": [
      "[[0.61216521 0.54678502]\n",
      " [0.89942403 0.90670996]]\n"
     ]
    }
   ],
   "source": [
    "array2 = np.random.random((2,2))\n",
    "print(array2)"
   ]
  },
  {
   "cell_type": "code",
   "execution_count": 5,
   "metadata": {},
   "outputs": [
    {
     "name": "stdout",
     "output_type": "stream",
     "text": [
      "[[7 7 7]\n",
      " [7 7 7]\n",
      " [7 7 7]]\n"
     ]
    }
   ],
   "source": [
    "array3 = np.full((3,3),7)\n",
    "print(array3)"
   ]
  },
  {
   "cell_type": "code",
   "execution_count": 6,
   "metadata": {},
   "outputs": [
    {
     "name": "stdout",
     "output_type": "stream",
     "text": [
      "[[1 0 0]\n",
      " [0 1 0]\n",
      " [0 0 1]]\n"
     ]
    }
   ],
   "source": [
    "array4 = np.identity(3,dtype=np.int64)\n",
    "print(array4)"
   ]
  },
  {
   "cell_type": "code",
   "execution_count": 7,
   "metadata": {},
   "outputs": [
    {
     "name": "stdout",
     "output_type": "stream",
     "text": [
      "[[[1 1 1 1]\n",
      "  [1 1 1 1]\n",
      "  [1 1 1 1]]\n",
      "\n",
      " [[1 1 1 1]\n",
      "  [1 1 1 1]\n",
      "  [1 1 1 1]]]\n"
     ]
    }
   ],
   "source": [
    "add = np.add(x,y)\n",
    "print(add)"
   ]
  },
  {
   "cell_type": "code",
   "execution_count": 8,
   "metadata": {},
   "outputs": [
    {
     "name": "stdout",
     "output_type": "stream",
     "text": [
      "[[[1 1 1 1]\n",
      "  [1 1 1 1]\n",
      "  [1 1 1 1]]\n",
      "\n",
      " [[1 1 1 1]\n",
      "  [1 1 1 1]\n",
      "  [1 1 1 1]]]\n"
     ]
    }
   ],
   "source": [
    "diff = np.subtract(x,y)\n",
    "print(diff)"
   ]
  },
  {
   "cell_type": "code",
   "execution_count": 9,
   "metadata": {},
   "outputs": [
    {
     "name": "stdout",
     "output_type": "stream",
     "text": [
      "[[[0 0 0 0]\n",
      "  [0 0 0 0]\n",
      "  [0 0 0 0]]\n",
      "\n",
      " [[0 0 0 0]\n",
      "  [0 0 0 0]\n",
      "  [0 0 0 0]]]\n"
     ]
    }
   ],
   "source": [
    "mult = np.multiply(x,y)\n",
    "print(mult)"
   ]
  },
  {
   "cell_type": "code",
   "execution_count": 10,
   "metadata": {},
   "outputs": [
    {
     "name": "stdout",
     "output_type": "stream",
     "text": [
      "[[[0. 0. 0. 0.]\n",
      "  [0. 0. 0. 0.]\n",
      "  [0. 0. 0. 0.]]\n",
      "\n",
      " [[0. 0. 0. 0.]\n",
      "  [0. 0. 0. 0.]\n",
      "  [0. 0. 0. 0.]]]\n"
     ]
    }
   ],
   "source": [
    "div = np.divide(y,x)\n",
    "print(div)"
   ]
  },
  {
   "cell_type": "code",
   "execution_count": 11,
   "metadata": {},
   "outputs": [
    {
     "name": "stdout",
     "output_type": "stream",
     "text": [
      "[[[0 0 0 0]\n",
      "  [0 0 0 0]\n",
      "  [0 0 0 0]]\n",
      "\n",
      " [[0 0 0 0]\n",
      "  [0 0 0 0]\n",
      "  [0 0 0 0]]]\n"
     ]
    }
   ],
   "source": [
    "rem = np.remainder(y,x)\n",
    "print(rem)"
   ]
  },
  {
   "cell_type": "code",
   "execution_count": 13,
   "metadata": {},
   "outputs": [
    {
     "name": "stdout",
     "output_type": "stream",
     "text": [
      "False\n"
     ]
    }
   ],
   "source": [
    "result = np.array_equal(x,y)\n",
    "print(result)"
   ]
  }
 ],
 "metadata": {
  "kernelspec": {
   "display_name": "Python 3",
   "language": "python",
   "name": "python3"
  },
  "language_info": {
   "codemirror_mode": {
    "name": "ipython",
    "version": 3
   },
   "file_extension": ".py",
   "mimetype": "text/x-python",
   "name": "python",
   "nbconvert_exporter": "python",
   "pygments_lexer": "ipython3",
   "version": "3.7.0"
  }
 },
 "nbformat": 4,
 "nbformat_minor": 2
}
