{
 "cells": [
  {
   "cell_type": "code",
   "execution_count": 10,
   "metadata": {
    "scrolled": false
   },
   "outputs": [
    {
     "name": "stdout",
     "output_type": "stream",
     "text": [
      "00\r\n",
      "00\r\n"
     ]
    }
   ],
   "source": [
    "def Array(col,row):\n",
    "    a=[[0 for i in range (col)]for j in range (row)]\n",
    "    for i in range(row):\n",
    "        for j in range (col):\n",
    "            print(a[i][j], end=\"\")\n",
    "        print(\"\\r\")\n",
    "Array(2,2)"
   ]
  },
  {
   "cell_type": "code",
   "execution_count": 26,
   "metadata": {},
   "outputs": [
    {
     "name": "stdout",
     "output_type": "stream",
     "text": [
      "Enter rows: 3\n",
      "Enter columns: 3\n",
      "Enter: 1\n",
      "Enter: 2\n",
      "Enter: 3\n",
      "Enter: 4\n",
      "Enter: 5\n",
      "Enter: 6\n",
      "Enter: 7\n",
      "Enter: 8\n",
      "Enter: 9\n",
      "7  8  9  \n",
      "7  8  9  \n",
      "7  8  9  \n",
      "In two dimension array we can't change the values of 2 sub lists.\n"
     ]
    }
   ],
   "source": [
    "# A\n",
    "def SetValues(col,row):\n",
    "    arr = [ [0] * col] * row\n",
    "    for i in range(row):\n",
    "        for j in range (col):\n",
    "            arr[i][j]=int(input(\"Enter: \"))\n",
    "    return arr\n",
    "def PrintValues(col,row,arr):\n",
    "    for i in range(row):\n",
    "        for j in range (col):\n",
    "            print(arr[i][j], end=\"  \")\n",
    "        print(\"\\r\")\n",
    "r=int(input(\"Enter rows: \"))\n",
    "c=int(input(\"Enter columns: \"))\n",
    "a=SetValues(c,r)\n",
    "PrintValues(c,r,a)\n",
    "print(\"In two dimension array we can't change the values of 2 sub lists.\")"
   ]
  },
  {
   "cell_type": "code",
   "execution_count": 28,
   "metadata": {},
   "outputs": [
    {
     "name": "stdout",
     "output_type": "stream",
     "text": [
      "Enter rows: 3\n",
      "Enter columns: 3\n",
      "Enter: 1\n",
      "Enter: 2\n",
      "Enter: 3\n",
      "Enter: 4\n",
      "Enter: 5\n",
      "Enter: 6\n",
      "Enter: 7\n",
      "Enter: 8\n",
      "Enter: 9\n",
      "1  2  3  \n",
      "4  5  6  \n",
      "7  8  9  \n"
     ]
    }
   ],
   "source": [
    "# B\n",
    "def SetValues(col,row):\n",
    "    a = [[0 for i in range(col)]for j in range(row)]\n",
    "    for i in range(row):\n",
    "        for j in range (col):\n",
    "            a[i][j]=int(input(\"Enter: \"))\n",
    "    return a\n",
    "def PrintValues(col,row,a):\n",
    "    for i in range(row):\n",
    "        for j in range (col):\n",
    "            print(a[i][j], end=\"  \")\n",
    "        print(\"\\r\")\n",
    "r=int(input(\"Enter rows: \"))\n",
    "c=int(input(\"Enter columns: \"))\n",
    "a=SetValues(c,r)\n",
    "PrintValues(c,r,a)"
   ]
  },
  {
   "cell_type": "code",
   "execution_count": 84,
   "metadata": {
    "scrolled": false
   },
   "outputs": [
    {
     "name": "stdout",
     "output_type": "stream",
     "text": [
      "Matrix A\n",
      "Enter: 1\n",
      "Enter: 2\n",
      "Enter: 3\n",
      "Enter: 5\n",
      "Matrix B\n",
      "Enter: 9\n",
      "Enter: 6\n",
      "Enter: 3\n",
      "Enter: 2\n",
      "Matrix A\n",
      "1  2  \n",
      "3  5  \n",
      "Matrix B\n",
      "9  6  \n",
      "3  2  \n",
      "Matrix [1/2]2\n",
      "9\n"
     ]
    }
   ],
   "source": [
    "# 03\n",
    "class Array:\n",
    "    def __init__(self,row,col):\n",
    "        self.row=row\n",
    "        self.col=col\n",
    "        self.a=[[0 for i in range(self.col)]for j in range(self.row)]\n",
    "        self.a1 = [[0 for i in range(self.col)]for j in range(self.row)]\n",
    "    def SetValues(self):\n",
    "        print(\"Matrix A\")\n",
    "        for i in range(self.row):\n",
    "            for j in range (self.col):\n",
    "                self.a[i][j]=int(input(\"Enter: \"))\n",
    "        print(\"Matrix B\")\n",
    "        for i in range(self.row):\n",
    "            for j in range (self.col):\n",
    "                self.a1[i][j]=int(input(\"Enter: \"))\n",
    "    def GetValues(self):\n",
    "        f=int(input(\"Matrix [1/2]\"))\n",
    "        if f==1:\n",
    "            i=int(input(\"Enter row number: \"))\n",
    "            j=int(input(\"Enter column number: \"))\n",
    "            print(self.a[i][j])\n",
    "        else:\n",
    "            i=int(input(\"Enter row number: \"))\n",
    "            j=int(input(\"Enter column number: \"))\n",
    "            print(self.a1[i][j])\n",
    "    def AddValues(self):\n",
    "        print(\"----------Sum of two matrices---------\")\n",
    "        self.a2 = [[0 for i in range(self.col)]for j in range(self.row)]\n",
    "        for i in range(self.row):\n",
    "            for j in range (self.col):\n",
    "                self.a2[i][j]=self.a[i][j] + self.a1[i][j]\n",
    "        for i in range(self.row):\n",
    "            for j in range (self.col):\n",
    "                print(self.a2[i][j], end=\"  \")\n",
    "            print(\"\\r\")\n",
    "    def SubValues(self):\n",
    "        print(\"----------Difference of two matrices---------\")\n",
    "        self.a2 = [[0 for i in range(self.col)]for j in range(self.row)]\n",
    "        for i in range(self.row):\n",
    "            for j in range (self.col):\n",
    "                self.a2[i][j]=self.a[i][j] - self.a1[i][j]\n",
    "        for i in range(self.row):\n",
    "            for j in range (self.col):\n",
    "                print(self.a2[i][j], end=\"  \")\n",
    "            print(\"\\r\")\n",
    "    def PrintValues(self):\n",
    "        print(\"Matrix A\")\n",
    "        for i in range(self.row):\n",
    "            for j in range (self.col):\n",
    "                print(self.a[i][j], end=\"  \")\n",
    "            print(\"\\r\")\n",
    "        print(\"Matrix B\")\n",
    "        for i in range(self.row):\n",
    "            for j in range (self.col):\n",
    "                print(self.a1[i][j], end=\"  \")\n",
    "            print(\"\\r\")\n",
    "    def Max(self):\n",
    "        f=int(input(\"Matrix [1/2]\"))\n",
    "        if f==1:\n",
    "            maxx=self.a[0][0]\n",
    "            for i in range(self.row):\n",
    "                for j in range (self.col):\n",
    "                    if maxx < self.a[i][j] :\n",
    "                        maxx=self.a[i][j]\n",
    "            print(maxx)\n",
    "        else:\n",
    "            maxx=self.a1[0][0]\n",
    "            for i in range(self.row):\n",
    "                for j in range (self.col):\n",
    "                    if maxx < self.a1[i][j]:\n",
    "                        maxx=self.a1[i][j]\n",
    "            print(maxx)\n",
    "a=Array(2,2)\n",
    "a.SetValues()\n",
    "#a.GetValues()\n",
    "#a.AddValues()\n",
    "#a.SubValues()\n",
    "a.PrintValues()\n",
    "a.Max()"
   ]
  },
  {
   "cell_type": "code",
   "execution_count": null,
   "metadata": {},
   "outputs": [],
   "source": []
  },
  {
   "cell_type": "code",
   "execution_count": 35,
   "metadata": {},
   "outputs": [
    {
     "name": "stdout",
     "output_type": "stream",
     "text": [
      "Enter rows: 2\n",
      "Enter columns: 2\n",
      "Enter: 1\n",
      "Enter: 2\n",
      "Enter: 3\n",
      "Enter: 4\n",
      "1  2  \n",
      "3  4  \n",
      "Enter: 5\n",
      "Enter: 6\n",
      "Enter: 2\n",
      "Enter: 3\n",
      "5  6  \n",
      "2  3  \n",
      "-------------------\n",
      "6  8  \n",
      "5  7  \n"
     ]
    }
   ],
   "source": [
    "def SetValues(col,row):\n",
    "    a = [[0 for i in range(col)]for j in range(row)]\n",
    "    for i in range(row):\n",
    "        for j in range (col):\n",
    "            a[i][j]=int(input(\"Enter: \"))\n",
    "    for i in range(row):\n",
    "        for j in range (col):\n",
    "            print(a[i][j], end=\"  \")\n",
    "        print(\"\\r\")\n",
    "    a1 = [[0 for i in range(col)]for j in range(row)]\n",
    "    for i in range(row):\n",
    "        for j in range (col):\n",
    "            a1[i][j]=int(input(\"Enter: \"))\n",
    "    for i in range(row):\n",
    "        for j in range (col):\n",
    "            print(a1[i][j], end=\"  \")\n",
    "        print(\"\\r\")\n",
    "    print(\"-------------------\")\n",
    "    a2 = [[0 for i in range(col)]for j in range(row)]\n",
    "    for i in range(row):\n",
    "        for j in range (col):\n",
    "            a2[i][j]=a[i][j] + a1[i][j]\n",
    "    for i in range(row):\n",
    "        for j in range (col):\n",
    "            print(a2[i][j], end=\"  \")\n",
    "        print(\"\\r\")\n",
    "r=int(input(\"Enter rows: \"))\n",
    "c=int(input(\"Enter columns: \"))\n",
    "a=SetValues(c,r)"
   ]
  }
 ],
 "metadata": {
  "kernelspec": {
   "display_name": "Python 3",
   "language": "python",
   "name": "python3"
  },
  "language_info": {
   "codemirror_mode": {
    "name": "ipython",
    "version": 3
   },
   "file_extension": ".py",
   "mimetype": "text/x-python",
   "name": "python",
   "nbconvert_exporter": "python",
   "pygments_lexer": "ipython3",
   "version": "3.7.0"
  }
 },
 "nbformat": 4,
 "nbformat_minor": 2
}
