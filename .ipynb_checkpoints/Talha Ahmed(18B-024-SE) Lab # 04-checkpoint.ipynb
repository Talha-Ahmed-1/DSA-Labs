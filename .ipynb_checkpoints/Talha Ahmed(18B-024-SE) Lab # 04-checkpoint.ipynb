{
 "cells": [
  {
   "cell_type": "code",
   "execution_count": 15,
   "metadata": {},
   "outputs": [
    {
     "name": "stdout",
     "output_type": "stream",
     "text": [
      "[]\n",
      "[1, 3, 2, 5, 6, 5]\n",
      "[1, 2, 3, 5, 5, 6]\n",
      "[1, 6, 6, 2, 5, 3]\n",
      "[1, 2, 3, 5, 6, 6]\n",
      "[1, 5, 3, 3, 5, 2]\n",
      "[1, 2, 3, 3, 5, 5]\n",
      "Position of 3 is 3\n"
     ]
    }
   ],
   "source": [
    "import random\n",
    "class Sorting:\n",
    "    def __init__(self):\n",
    "        self.data=[]\n",
    "    def Print(self):\n",
    "        print(self.data)\n",
    "    def GenerateRandom(self,n):\n",
    "        for i in range(n):\n",
    "            x=random.randint(1,n)\n",
    "            self.data.append(x)\n",
    "    def BubbleSort(self):\n",
    "        n=len(self.data)\n",
    "        for i in range(1,n-1):\n",
    "            for j in range(n-i):\n",
    "                if self.data[j] > self.data[j+1]:\n",
    "                    self.data[j],self.data[j+1]=self.data[j+1],self.data[j]\n",
    "        print(self.data)\n",
    "    def InsertionSort(self):\n",
    "        for i in range(len(self.data)):\n",
    "            key=self.data[i]\n",
    "            j=i-1\n",
    "            while j>=0 and self.data[j]>key:\n",
    "                self.data[j+1]=self.data[j]\n",
    "                j=j-1\n",
    "            self.data[j+1]=key\n",
    "    def SelectionSort(self):\n",
    "        n=len(self.data)\n",
    "        for i in range(n):\n",
    "            min = i\n",
    "            for j in range(i+1,n):\n",
    "                if self.data[j]<self.data[min] :\n",
    "                    min = j\n",
    "            if min != i:\n",
    "                self.data[min],self.data[i]=self.data[i],self.data[min]\n",
    "        print(data)\n",
    "    def Search(self,x):\n",
    "        i=1\n",
    "        while i <= len(self.data) and x != self.data[i]:\n",
    "            i += 1\n",
    "        if i <= len(self.data):\n",
    "            location=(self.data.index(i))+2\n",
    "        else:\n",
    "            location=0\n",
    "        print(\"Position of\",x,\"is\",location)\n",
    "a=Sorting()\n",
    "a.Print()\n",
    "a.GenerateRandom(6)\n",
    "a.Print()\n",
    "a.BubbleSort()\n",
    "b=Sorting()\n",
    "b.GenerateRandom(6)\n",
    "b.Print()\n",
    "b.InsertionSort()\n",
    "b.Print()\n",
    "c=Sorting()\n",
    "c.GenerateRandom(6)\n",
    "c.Print()\n",
    "c.InsertionSort()\n",
    "c.Print()\n",
    "c.Search(3)"
   ]
  },
  {
   "cell_type": "code",
   "execution_count": 92,
   "metadata": {},
   "outputs": [
    {
     "name": "stdout",
     "output_type": "stream",
     "text": [
      "[2, 2, 3, 4, 7, 8]\n"
     ]
    }
   ],
   "source": [
    "data=[2,3,7,8,2,4]\n",
    "n=len(data)\n",
    "for i in range(n):\n",
    "    min = i\n",
    "    for j in range(i+1,n):\n",
    "        if data[j]<data[min] :\n",
    "            min = j\n",
    "    if min != i:\n",
    "        data[min],data[i]=data[i],data[min]\n",
    "print(data)"
   ]
  }
 ],
 "metadata": {
  "kernelspec": {
   "display_name": "Python 3",
   "language": "python",
   "name": "python3"
  },
  "language_info": {
   "codemirror_mode": {
    "name": "ipython",
    "version": 3
   },
   "file_extension": ".py",
   "mimetype": "text/x-python",
   "name": "python",
   "nbconvert_exporter": "python",
   "pygments_lexer": "ipython3",
   "version": "3.7.0"
  }
 },
 "nbformat": 4,
 "nbformat_minor": 2
}
