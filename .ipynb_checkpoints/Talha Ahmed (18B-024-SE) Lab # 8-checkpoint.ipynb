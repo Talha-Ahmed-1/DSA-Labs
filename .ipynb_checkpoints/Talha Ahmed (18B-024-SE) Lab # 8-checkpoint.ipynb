{
 "cells": [
  {
   "cell_type": "code",
   "execution_count": 5,
   "metadata": {},
   "outputs": [
    {
     "name": "stdout",
     "output_type": "stream",
     "text": [
      "5\n",
      "4\n",
      "3\n",
      "2\n",
      "1\n"
     ]
    }
   ],
   "source": [
    "# 1\n",
    "def Write(n):\n",
    "    if n>0:\n",
    "        print(n)\n",
    "        Write(n-1)\n",
    "Write(5)"
   ]
  },
  {
   "cell_type": "code",
   "execution_count": 71,
   "metadata": {},
   "outputs": [
    {
     "name": "stdout",
     "output_type": "stream",
     "text": [
      "5!=5x4x3x2x1=120\n"
     ]
    }
   ],
   "source": [
    "# 2\n",
    "def Factorial(n):\n",
    "    if n>0:\n",
    "        if n==1:\n",
    "            print(n,end=\"=\")\n",
    "        if n!=1:\n",
    "            print(n,end=\"x\")\n",
    "        n*=Factorial(n-1)\n",
    "        return n\n",
    "    else:\n",
    "        return 1\n",
    "n=5\n",
    "print(str(n),end=\"!=\")\n",
    "print(Factorial(n))"
   ]
  },
  {
   "cell_type": "code",
   "execution_count": 86,
   "metadata": {},
   "outputs": [
    {
     "data": {
      "text/plain": [
       "4"
      ]
     },
     "execution_count": 86,
     "metadata": {},
     "output_type": "execute_result"
    }
   ],
   "source": [
    "# 3\n",
    "def GCD(a,b):\n",
    "    if b==0:\n",
    "        return a\n",
    "    else:\n",
    "        return GCD(b,a%b)\n",
    "GCD(8,12)"
   ]
  },
  {
   "cell_type": "code",
   "execution_count": 85,
   "metadata": {},
   "outputs": [
    {
     "data": {
      "text/plain": [
       "'Item not Found !'"
      ]
     },
     "execution_count": 85,
     "metadata": {},
     "output_type": "execute_result"
    }
   ],
   "source": [
    "# 4\n",
    "def BinSearch(a,lb,ub,x):\n",
    "    mid=(lb+ub)//2\n",
    "    if x==a[mid]:\n",
    "        return mid+1\n",
    "    elif x<a[mid]:\n",
    "        return BinSearch(a,lb,mid-1,x)\n",
    "    elif x>ub:\n",
    "        return \"Item not Found !\"\n",
    "    else:\n",
    "        return BinSearch(a,mid+1,ub,x)\n",
    "BinSearch([1,2,3,4,5,6,7,8],1,8,10)"
   ]
  },
  {
   "cell_type": "code",
   "execution_count": 97,
   "metadata": {},
   "outputs": [
    {
     "name": "stdout",
     "output_type": "stream",
     "text": [
      "[20, 50, 75, 99, 100]\n"
     ]
    }
   ],
   "source": [
    "# 5\n",
    "def QuickSort(a,p,r):\n",
    "    if p<r:\n",
    "        q=Partition(a,p,r)\n",
    "        QuickSort(a,p,q-1)\n",
    "        QuickSort(a,q+1,r)\n",
    "def Partition(a,low,high):\n",
    "    x=a[high]\n",
    "    i=low-1\n",
    "    for j in range(low,high):\n",
    "        if a[j]<=x:\n",
    "            i=i+1\n",
    "            a[j],a[i]=a[i],a[j]\n",
    "    a[i+1],a[high]=a[high],a[i+1]\n",
    "    return i+1\n",
    "arr=[20,50,100,75,99]\n",
    "QuickSort(arr,0,len(arr)-1)\n",
    "print(arr)"
   ]
  }
 ],
 "metadata": {
  "kernelspec": {
   "display_name": "Python 3",
   "language": "python",
   "name": "python3"
  },
  "language_info": {
   "codemirror_mode": {
    "name": "ipython",
    "version": 3
   },
   "file_extension": ".py",
   "mimetype": "text/x-python",
   "name": "python",
   "nbconvert_exporter": "python",
   "pygments_lexer": "ipython3",
   "version": "3.7.0"
  }
 },
 "nbformat": 4,
 "nbformat_minor": 2
}
