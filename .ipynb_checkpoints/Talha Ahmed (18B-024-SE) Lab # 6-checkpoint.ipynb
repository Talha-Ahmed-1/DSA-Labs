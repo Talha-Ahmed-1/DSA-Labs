{
 "cells": [
  {
   "cell_type": "code",
   "execution_count": 1,
   "metadata": {},
   "outputs": [
    {
     "name": "stdout",
     "output_type": "stream",
     "text": [
      "Stack Overflow !\n",
      "5\n",
      "3\n",
      "7\n",
      "6\n",
      "5\n"
     ]
    }
   ],
   "source": [
    "# A\n",
    "class ArrayStack:\n",
    "    def __init__(self,size):\n",
    "        self.size=size\n",
    "        self.data=[0 for i in range(size)]\n",
    "        self.top=0\n",
    "    def isEmpty(self):\n",
    "        if self.top==0:\n",
    "            return True\n",
    "        else:\n",
    "            return False\n",
    "    def Push(self,value):\n",
    "        if self.top==self.size:\n",
    "            print(\"Stack Overflow !\")\n",
    "        else:\n",
    "            self.data[self.top]=value\n",
    "            self.top+=1\n",
    "    def Pop (self):\n",
    "        if self.isEmpty():\n",
    "            print(\"Stack Underflow !\")\n",
    "        else:\n",
    "            x=self.data[self.top-1]\n",
    "            self.top-=1\n",
    "            self.data[self.top]=0\n",
    "            return x\n",
    "    def Check(self):\n",
    "        if self.isEmpty:\n",
    "            True\n",
    "        else:\n",
    "            False\n",
    "    def Peek(self):\n",
    "        return self.data[self.top-1]\n",
    "    def Count(self):\n",
    "        return self.top\n",
    "    def Printt(self):\n",
    "        for i in self.data:\n",
    "            print(i)\n",
    "ob=ArrayStack(3)\n",
    "ob.Push(7)\n",
    "ob.Push(6)\n",
    "ob.Push(5)\n",
    "ob.Push(77)\n",
    "#ob.Pop()\n",
    "print(ob.Peek())\n",
    "print(ob.Count())\n",
    "ob.Printt()"
   ]
  },
  {
   "cell_type": "code",
   "execution_count": 23,
   "metadata": {},
   "outputs": [
    {
     "name": "stdout",
     "output_type": "stream",
     "text": [
      "5\n",
      "4\n"
     ]
    }
   ],
   "source": [
    "# B\n",
    "class ArrayQueue:\n",
    "    def __init__(self,size):\n",
    "        self.size=size\n",
    "        self.data=[0 for i in range(size)]\n",
    "        self.f=-1\n",
    "        self.r=0\n",
    "    def enQueue(self,value):\n",
    "        self.data[self.r]=value\n",
    "        self.r=(self.r+1)%self.size\n",
    "    def deQueue(self):\n",
    "        self.f=(self.f+1)%self.size\n",
    "        return self.data[self.f]\n",
    "    def isEmpty(self):\n",
    "        if self.f==-1 and self.r==0:\n",
    "            return True\n",
    "        else:\n",
    "            False\n",
    "    def Count(self):\n",
    "        return len(self.data)\n",
    "    def Printt(self):\n",
    "        print(self.Count())\n",
    "ob=ArrayQueue(4)\n",
    "ob.enQueue(1)\n",
    "ob.enQueue(2)\n",
    "ob.enQueue(3)\n",
    "ob.enQueue(4)\n",
    "ob.enQueue(5)\n",
    "print(ob.deQueue())\n",
    "ob.Printt()"
   ]
  },
  {
   "cell_type": "code",
   "execution_count": 1,
   "metadata": {},
   "outputs": [
    {
     "name": "stdout",
     "output_type": "stream",
     "text": [
      "[0, 0, 0, 0, 0, 0, 0, 0, 0, 0]\n",
      "['{', 0, 0, 0, 0, 0, 0, 0, 0, 0]\n",
      "['{', '(', 0, 0, 0, 0, 0, 0, 0, 0]\n",
      "['{', 0, 0, 0, 0, 0, 0, 0, 0, 0]\n",
      "[0, 0, 0, 0, 0, 0, 0, 0, 0, 0]\n",
      "['[', 0, 0, 0, 0, 0, 0, 0, 0, 0]\n",
      "['[', '(', 0, 0, 0, 0, 0, 0, 0, 0]\n",
      "['[', 0, 0, 0, 0, 0, 0, 0, 0, 0]\n",
      "[0, 0, 0, 0, 0, 0, 0, 0, 0, 0]\n",
      "['{', 0, 0, 0, 0, 0, 0, 0, 0, 0]\n",
      "Stack Underflow !\n",
      "[0, 0, 0, 0, 0, 0, 0, 0, 0, 0]\n"
     ]
    }
   ],
   "source": [
    "# C\n",
    "class ArrayStack:\n",
    "    def __init__(self,lst):\n",
    "        self.lst=lst\n",
    "        self.size=len(self.lst)\n",
    "        self.data=[0 for i in range(self.size)]\n",
    "        self.top=0\n",
    "    def StringExp(self):\n",
    "        for i in self.lst:\n",
    "            print(self.data)\n",
    "            if i==\"{\" or i==\"(\" or i==\"[\":\n",
    "                self.Push(i)\n",
    "            if i==\"}\" or i==\")\" or i==\"]\":\n",
    "                self.Pop()\n",
    "    def isEmpty(self):\n",
    "        if self.top==0:\n",
    "            return True\n",
    "        else:\n",
    "            return False\n",
    "    def Push(self,value):\n",
    "        if self.top==self.size:\n",
    "            print(\"Stack Overflow !\")\n",
    "        else:\n",
    "            self.data[self.top]=value\n",
    "            self.top+=1\n",
    "    def Pop(self):\n",
    "        if self.isEmpty():\n",
    "            print(\"Stack Underflow !\")\n",
    "        else:\n",
    "            x=self.data[self.top]\n",
    "            self.top-=1\n",
    "            self.data[self.top]=0\n",
    "            return x\n",
    "str1=\"{()}[()]{}\"\n",
    "ob=ArrayStack(str1)\n",
    "ob.StringExp()\n",
    "ob.Pop()\n",
    "print(ob.data)"
   ]
  }
 ],
 "metadata": {
  "kernelspec": {
   "display_name": "Python 3",
   "language": "python",
   "name": "python3"
  },
  "language_info": {
   "codemirror_mode": {
    "name": "ipython",
    "version": 3
   },
   "file_extension": ".py",
   "mimetype": "text/x-python",
   "name": "python",
   "nbconvert_exporter": "python",
   "pygments_lexer": "ipython3",
   "version": "3.7.0"
  }
 },
 "nbformat": 4,
 "nbformat_minor": 2
}
